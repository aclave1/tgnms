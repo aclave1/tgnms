{
 "cells": [
  {
   "cell_type": "code",
   "execution_count": null,
   "metadata": {},
   "outputs": [],
   "source": [
    "from module.jupyter_util import *\n",
    "%matplotlib notebook\n",
    "\n",
    "# fetch_network_info() fetches the topology from API service for all topologies in the topology MySQL table\n",
    "# network_info = {id: {\"topology\": {<topology from E2E>}}}  where id is from the topology SQL table\n",
    "network_info = fetch_network_info()\n",
    "# first topology in the list\n",
    "t_id = min(network_info.keys())\n",
    "t = network_info[t_id][\"topology\"]\n",
    "# use current time, or specific time in past\n",
    "end_time = int(time.time()) # int(datetime.strptime(\"2019-03-28 17:27:00 -0700\", \"%Y-%m-%d %H:%M:%S %z\").timestamp())\n",
    "# we store stats at 1s, 30s, and 900s intervals\n",
    "read_interval = 30\n",
    "# window in seconds in past\n",
    "window = 300\n",
    "\n",
    "nts = NumpyTimeSeries(end_time - window, end_time, read_interval, network_info)\n",
    "\n",
    "# output format of read_stats() is numpy array\n",
    "# it can be StatType.NODE or StatType.LINK\n",
    "# missing stats are shown as np.nan\n",
    "\n",
    "mcs = nts.read_stats(\"staPkt.mcs\", StatType.LINK)\n",
    "# mcs[ti][li, di, :] \n",
    "# where ti is the topology index, li is the link index,  di is the direction (0,1), and : is the time axis\n",
    "mlu = nts.read_stats(\"staPkt.mgmtLinkUp\", StatType.LINK)\n",
    "# calculate and print table of average of these stats, if mcs < 9\n",
    "mean_mcs = np.round(np.nanmean(mcs[0], axis=nts.TIME_AXIS), 1)\n",
    "mean_mlu = np.round(np.nanmean(mlu[0], axis=nts.TIME_AXIS), 1)\n",
    "tabulate_links([\"a_node_mac\", \"z_node_mac\"], [mean_mcs, mean_mlu], (mean_mcs < 10).any(axis=nts.DIR_AXIS), t)\n",
    "\n",
    "# similarly create table for node stat\n",
    "sync_mode_gps = nts.read_stats(\"tsf.syncModeGps\", StatType.NODE)[0]\n",
    "num_missing = np.isnan(sync_mode_gps).sum(axis=nts.TIME_AXIS)\n",
    "mean_smg = np.round(np.nanmean(sync_mode_gps, axis=nts.TIME_AXIS), 1)\n",
    "tabulate_nodes([\"name\", \"mac_addr\", \"node_type\"], [mean_smg, num_missing], np.logical_and(mean_smg == 1, num_missing < 5) , t)\n",
    "\n",
    "# print unique values of mcs\n",
    "show_uniques(mcs[0])\n",
    "\n",
    "# plot mcs in time\n",
    "plt.plot(mcs[0][0, 0, :], '.-')\n",
    "plt.grid()"
   ]
  }
 ],
 "metadata": {
  "kernelspec": {
   "display_name": "Python 3",
   "language": "python",
   "name": "python3"
  },
  "language_info": {
   "codemirror_mode": {
    "name": "ipython",
    "version": 3
   },
   "file_extension": ".py",
   "mimetype": "text/x-python",
   "name": "python",
   "nbconvert_exporter": "python",
   "pygments_lexer": "ipython3",
   "version": "3.6.7"
  }
 },
 "nbformat": 4,
 "nbformat_minor": 2
}
